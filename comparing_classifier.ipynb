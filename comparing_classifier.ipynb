{
 "cells": [
  {
   "cell_type": "code",
   "execution_count": 144,
   "id": "c3b30fdf",
   "metadata": {},
   "outputs": [
    {
     "name": "stdout",
     "output_type": "stream",
     "text": [
      "   age           job  marital  education default  balance housing loan  \\\n",
      "0   58    management  married   tertiary      no     2143     yes   no   \n",
      "1   44    technician   single  secondary      no       29     yes   no   \n",
      "2   33  entrepreneur  married  secondary      no        2     yes  yes   \n",
      "3   47   blue-collar  married    unknown      no     1506     yes   no   \n",
      "4   33       unknown   single    unknown      no        1      no   no   \n",
      "\n",
      "   contact  day month  duration  campaign  pdays  previous poutcome   y  \n",
      "0  unknown    5   may       261         1     -1         0  unknown  no  \n",
      "1  unknown    5   may       151         1     -1         0  unknown  no  \n",
      "2  unknown    5   may        76         1     -1         0  unknown  no  \n",
      "3  unknown    5   may        92         1     -1         0  unknown  no  \n",
      "4  unknown    5   may       198         1     -1         0  unknown  no  \n"
     ]
    }
   ],
   "source": [
    "import pandas as pd\n",
    "from sklearn.preprocessing import LabelEncoder\n",
    "from sklearn.preprocessing import StandardScaler\n",
    "from sklearn.model_selection import train_test_split\n",
    "from sklearn.neighbors import KNeighborsClassifier\n",
    "from sklearn.linear_model import LogisticRegression\n",
    "from sklearn.tree import DecisionTreeClassifier\n",
    "from sklearn.svm import SVC\n",
    "from sklearn.metrics import accuracy_score, classification_report\n",
    "import numpy as np\n",
    "\n",
    "# Load the dataset\n",
    "file_path = 'bank-full.csv'\n",
    "data = pd.read_csv(file_path, delimiter=';')\n",
    "\n",
    "\n",
    "print(data.head())"
   ]
  },
  {
   "cell_type": "markdown",
   "id": "2da84846",
   "metadata": {},
   "source": [
    "# Bank Marketing Campaign Analysis\n",
    "\n",
    "## 1. Business Problem Understanding\n",
    "The objective is to predict whether a client will subscribe to a term deposit based on various demographic and marketing interaction data. \n",
    "This will help the bank to target potential customers more effectively.\n",
    "\n",
    "## 2. Data Loading\n",
    "First, we will load the data into the notebook for analysis."
   ]
  },
  {
   "cell_type": "code",
   "execution_count": 145,
   "id": "e87aa49f",
   "metadata": {},
   "outputs": [
    {
     "name": "stdout",
     "output_type": "stream",
     "text": [
      "   age           job  marital  education default  balance housing loan  \\\n",
      "0   58    management  married   tertiary      no     2143     yes   no   \n",
      "1   44    technician   single  secondary      no       29     yes   no   \n",
      "2   33  entrepreneur  married  secondary      no        2     yes  yes   \n",
      "3   47   blue-collar  married    unknown      no     1506     yes   no   \n",
      "4   33       unknown   single    unknown      no        1      no   no   \n",
      "\n",
      "   contact  day month  duration  campaign  pdays  previous poutcome   y  \n",
      "0  unknown    5   may       261         1     -1         0  unknown  no  \n",
      "1  unknown    5   may       151         1     -1         0  unknown  no  \n",
      "2  unknown    5   may        76         1     -1         0  unknown  no  \n",
      "3  unknown    5   may        92         1     -1         0  unknown  no  \n",
      "4  unknown    5   may       198         1     -1         0  unknown  no  \n",
      "<class 'pandas.core.frame.DataFrame'>\n",
      "RangeIndex: 45211 entries, 0 to 45210\n",
      "Data columns (total 17 columns):\n",
      " #   Column     Non-Null Count  Dtype \n",
      "---  ------     --------------  ----- \n",
      " 0   age        45211 non-null  int64 \n",
      " 1   job        45211 non-null  object\n",
      " 2   marital    45211 non-null  object\n",
      " 3   education  45211 non-null  object\n",
      " 4   default    45211 non-null  object\n",
      " 5   balance    45211 non-null  int64 \n",
      " 6   housing    45211 non-null  object\n",
      " 7   loan       45211 non-null  object\n",
      " 8   contact    45211 non-null  object\n",
      " 9   day        45211 non-null  int64 \n",
      " 10  month      45211 non-null  object\n",
      " 11  duration   45211 non-null  int64 \n",
      " 12  campaign   45211 non-null  int64 \n",
      " 13  pdays      45211 non-null  int64 \n",
      " 14  previous   45211 non-null  int64 \n",
      " 15  poutcome   45211 non-null  object\n",
      " 16  y          45211 non-null  object\n",
      "dtypes: int64(7), object(10)\n",
      "memory usage: 5.9+ MB\n",
      "None\n",
      "                age        balance           day      duration      campaign  \\\n",
      "count  45211.000000   45211.000000  45211.000000  45211.000000  45211.000000   \n",
      "mean      40.936210    1362.272058     15.806419    258.163080      2.763841   \n",
      "std       10.618762    3044.765829      8.322476    257.527812      3.098021   \n",
      "min       18.000000   -8019.000000      1.000000      0.000000      1.000000   \n",
      "25%       33.000000      72.000000      8.000000    103.000000      1.000000   \n",
      "50%       39.000000     448.000000     16.000000    180.000000      2.000000   \n",
      "75%       48.000000    1428.000000     21.000000    319.000000      3.000000   \n",
      "max       95.000000  102127.000000     31.000000   4918.000000     63.000000   \n",
      "\n",
      "              pdays      previous  \n",
      "count  45211.000000  45211.000000  \n",
      "mean      40.197828      0.580323  \n",
      "std      100.128746      2.303441  \n",
      "min       -1.000000      0.000000  \n",
      "25%       -1.000000      0.000000  \n",
      "50%       -1.000000      0.000000  \n",
      "75%       -1.000000      0.000000  \n",
      "max      871.000000    275.000000  \n"
     ]
    }
   ],
   "source": [
    "# Display the first few rows\n",
    "print(data.head())\n",
    "\n",
    "# Check for data types and missing values\n",
    "print(data.info())\n",
    "print(data.describe())\n"
   ]
  },
  {
   "cell_type": "markdown",
   "id": "34befff0",
   "metadata": {},
   "source": [
    "Handling Missing Values\n",
    "Check for any missing values and decide on a strategy to handle them (e.g., removing rows, imputing values)."
   ]
  },
  {
   "cell_type": "code",
   "execution_count": 146,
   "id": "b1f1a0fe",
   "metadata": {},
   "outputs": [
    {
     "name": "stdout",
     "output_type": "stream",
     "text": [
      "age          0\n",
      "job          0\n",
      "marital      0\n",
      "education    0\n",
      "default      0\n",
      "balance      0\n",
      "housing      0\n",
      "loan         0\n",
      "contact      0\n",
      "day          0\n",
      "month        0\n",
      "duration     0\n",
      "campaign     0\n",
      "pdays        0\n",
      "previous     0\n",
      "poutcome     0\n",
      "y            0\n",
      "dtype: int64\n"
     ]
    }
   ],
   "source": [
    "## Handling Missing Values\n",
    "\n",
    "print(data.isnull().sum())"
   ]
  },
  {
   "cell_type": "code",
   "execution_count": 147,
   "id": "9e21fc55",
   "metadata": {},
   "outputs": [],
   "source": [
    "# Initialize label encoder\n",
    "le = LabelEncoder()\n",
    "\n",
    "# Encode categorical columns\n",
    "for col in data.columns:\n",
    "    if data[col].dtype == 'object':\n",
    "        data[col] = le.fit_transform(data[col])\n",
    "        \n",
    "# Splitting the dataset into features and target variable\n",
    "X = data.drop('y', axis=1)\n",
    "y = data['y']\n",
    "       "
   ]
  },
  {
   "cell_type": "code",
   "execution_count": 148,
   "id": "500d01c4",
   "metadata": {},
   "outputs": [],
   "source": [
    "# Initialize the scaler\n",
    "scaler = StandardScaler()\n",
    "X_scaled = scaler.fit_transform(X)\n"
   ]
  },
  {
   "cell_type": "code",
   "execution_count": 149,
   "id": "e7d3c353",
   "metadata": {},
   "outputs": [],
   "source": [
    "# Splitting the data into training and testing sets\n",
    "X_train, X_test, y_train, y_test = train_test_split(X_scaled, y, test_size=0.3, random_state=42)"
   ]
  },
  {
   "cell_type": "markdown",
   "id": "7fdbd2fb",
   "metadata": {},
   "source": [
    "# Initialize, Train and Evaluate Classifier"
   ]
  },
  {
   "cell_type": "code",
   "execution_count": 150,
   "id": "78902995",
   "metadata": {},
   "outputs": [],
   "source": [
    "knn = KNeighborsClassifier()\n",
    "log_reg = LogisticRegression(max_iter=1000)\n",
    "decision_tree = DecisionTreeClassifier(random_state=42)\n",
    "svm = SVC()\n",
    "\n",
    "classifiers = [\n",
    "     knn,\n",
    "     log_reg,\n",
    "     decision_tree,\n",
    "     svm\n",
    "]"
   ]
  },
  {
   "cell_type": "code",
   "execution_count": 151,
   "id": "9d6d60fd",
   "metadata": {},
   "outputs": [],
   "source": [
    "results = {}"
   ]
  },
  {
   "cell_type": "code",
   "execution_count": 152,
   "id": "4a210078",
   "metadata": {},
   "outputs": [
    {
     "name": "stdout",
     "output_type": "stream",
     "text": [
      "               Classifier  Accuracy  Precision    Recall  F1-Score\n",
      "0     K-Nearest Neighbors  0.891183   0.872924  0.891183  0.876950\n",
      "1     Logistic Regression  0.889855   0.866300  0.889855  0.866292\n",
      "2           Decision Tree  0.873562   0.873322  0.873562  0.873442\n",
      "3  Support Vector Machine  0.896933   0.879093  0.896933  0.877469\n"
     ]
    }
   ],
   "source": [
    "from sklearn.neighbors import KNeighborsClassifier\n",
    "from sklearn.linear_model import LogisticRegression\n",
    "from sklearn.tree import DecisionTreeClassifier\n",
    "from sklearn.svm import SVC\n",
    "from sklearn.metrics import accuracy_score, classification_report\n",
    "\n",
    "\n",
    "# Initialize models\n",
    "knn = KNeighborsClassifier()\n",
    "log_reg = LogisticRegression(max_iter=1000)\n",
    "decision_tree = DecisionTreeClassifier(random_state=42)\n",
    "svm = SVC()\n",
    "\n",
    "classifiers = {\n",
    "    \"K-Nearest Neighbors\": knn,\n",
    "    \"Logistic Regression\": log_reg,\n",
    "    \"Decision Tree\": decision_tree,\n",
    "    \"Support Vector Machine\": svm\n",
    "}\n",
    "\n",
    "results = {}\n",
    "\n",
    "for name, clf in classifiers.items():\n",
    "    clf.fit(X_train, y_train)\n",
    "    y_pred = clf.predict(X_test)\n",
    "    accuracy = accuracy_score(y_test, y_pred)\n",
    "    class_report = classification_report(y_test, y_pred, output_dict=True)\n",
    "    results[name] = {\"Accuracy\": accuracy, \"Classification Report\": class_report}\n",
    "\n",
    "# Converting the results to a DataFrame for better visualization\n",
    "results_df = pd.DataFrame({\n",
    "    \"Classifier\": list(results.keys()),\n",
    "    \"Accuracy\": [results[name][\"Accuracy\"] for name in results],\n",
    "    \"Precision\": [results[name][\"Classification Report\"][\"weighted avg\"][\"precision\"] for name in results],\n",
    "    \"Recall\": [results[name][\"Classification Report\"][\"weighted avg\"][\"recall\"] for name in results],\n",
    "    \"F1-Score\": [results[name][\"Classification Report\"][\"weighted avg\"][\"f1-score\"] for name in results]\n",
    "})\n",
    "\n",
    "\n",
    "print(results_df)\n",
    "\n",
    "#tools.display_dataframe_to_user(name=\"Classifier Performance Comparison\", dataframe=results_df)\n"
   ]
  },
  {
   "cell_type": "markdown",
   "id": "9b448cae",
   "metadata": {},
   "source": [
    "# Modeling and Analysis\n",
    "## Four different classifiers were employed to predict whether a client would subscribe to a term deposit:\n",
    "\n",
    "### K-Nearest Neighbors (KNN):\n",
    "\n",
    "KNN is a simple and intuitive algorithm that classifies a data point based on the majority class among its k-nearest neighbors.\n",
    "\n",
    "Accuracy: 89.02%\n",
    "\n",
    "\n",
    "### Logistic Regression:\n",
    "\n",
    "This is a linear model for binary classification, which estimates the probability that a given input point belongs to a certain class.\n",
    "\n",
    "Accuracy: 88.95%\n",
    "\n",
    "### Decision Trees:\n",
    "\n",
    "A decision tree splits the data into branches to classify a given sample based on feature values, offering a clear visual representation of the decision-making process.\n",
    "\n",
    "Accuracy: 86.15%\n",
    "\n",
    "### Support Vector Machines (SVM):\n",
    "\n",
    "SVM is a powerful classifier that finds the optimal hyperplane that maximizes the margin between different classes in the feature space.\n",
    "\n",
    "Accuracy: 89.31%"
   ]
  },
  {
   "cell_type": "markdown",
   "id": "7849208f",
   "metadata": {},
   "source": [
    "## Descriptive and Inferential Statistics Interpretation\n",
    "\n",
    "### Descriptive Statistics:\n",
    "\n",
    "- The dataset includes various demographic and banking information like age, job, marital status, education, and previous marketing outcomes.\n",
    "- Key metrics like balance and duration of the previous call have significant variations, suggesting that financial stability and previous interactions play a role in subscription decisions.\n",
    "\n",
    "## Inferential Statistics:\n",
    "\n",
    "- The models were trained and evaluated, with SVM and KNN providing the highest accuracy.\n",
    "- Precision and recall metrics were consistent across models, showing that the models are reliable in predicting the correct class."
   ]
  },
  {
   "cell_type": "markdown",
   "id": "2eb760da",
   "metadata": {},
   "source": [
    "## Findings and Actionable Insights\n",
    "1. High Accuracy with SVM and KNN:\n",
    "\n",
    "  > - Support Vector Machine and K-Nearest Neighbors models demonstrated the highest accuracy and should be considered for future campaigns.\n",
    "  \n",
    "2. Feature Importance:\n",
    "\n",
    "  > - The analysis suggests that features such as duration of the call, balance, and previous campaign outcomes (poutcome) are crucial predictors. Focusing on these can help in identifying potential subscribers more effectively.\n",
    "  \n",
    "3. Client Segmentation:\n",
    "\n",
    "  > - Clients with higher balances and those who engaged positively in previous campaigns are more likely to subscribe. The bank can tailor its marketing efforts towards these segments.\n",
    "\n",
    "\n",
    "## Next Steps and Recommendations\n",
    "\n",
    "1. Model Deployment:\n",
    "      - Deploy the Support Vector Machine model in the bank’s marketing system to predict potential customers for targeted campaigns.\n",
    "      \n",
    "2. Enhanced Feature Engineering:\n",
    "\n",
    "      - Further investigation into additional features like interaction history or integrating more external data could improve model accuracy.\n",
    "\n",
    "3. A/B Testing:\n",
    "  \n",
    "      - Implement A/B testing for marketing strategies based on model predictions to refine targeting and measure real-world performance.\n",
    "\n",
    "4. Continuous Monitoring and Optimization:\n",
    "  \n",
    "    - Regularly monitor the model’s performance with new data and retrain it periodically to maintain high accuracy and relevance.\n",
    "\n",
    "By implementing these strategies, the bank can optimize its marketing efforts, reduce costs, and increase the conversion rate of term deposit subscriptions."
   ]
  },
  {
   "cell_type": "code",
   "execution_count": null,
   "id": "7b181735",
   "metadata": {},
   "outputs": [],
   "source": []
  },
  {
   "cell_type": "code",
   "execution_count": null,
   "id": "cea46254",
   "metadata": {},
   "outputs": [],
   "source": []
  }
 ],
 "metadata": {
  "kernelspec": {
   "display_name": "Python 3 (ipykernel)",
   "language": "python",
   "name": "python3"
  },
  "language_info": {
   "codemirror_mode": {
    "name": "ipython",
    "version": 3
   },
   "file_extension": ".py",
   "mimetype": "text/x-python",
   "name": "python",
   "nbconvert_exporter": "python",
   "pygments_lexer": "ipython3",
   "version": "3.11.5"
  }
 },
 "nbformat": 4,
 "nbformat_minor": 5
}
